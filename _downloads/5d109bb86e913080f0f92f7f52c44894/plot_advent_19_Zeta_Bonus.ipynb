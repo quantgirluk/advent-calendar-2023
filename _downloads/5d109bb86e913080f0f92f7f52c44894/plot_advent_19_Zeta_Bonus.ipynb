{
  "cells": [
    {
      "cell_type": "markdown",
      "metadata": {},
      "source": [
        "\n# Day 19: Zeta\n"
      ]
    },
    {
      "cell_type": "code",
      "execution_count": null,
      "metadata": {
        "collapsed": false
      },
      "outputs": [],
      "source": [
        "# Author: Dialid Santiago <d.santiago@outlook.com>\n# License: MIT\n# Description: Advent Calendar 2023\n\nimport numpy as np\nimport matplotlib.pyplot as plt\nfrom mpmath import zeta\nfrom matplotlib.collections import LineCollection\n\nplt.style.use(\"https://raw.githubusercontent.com/quantgirluk/matplotlib-stylesheets/main/quant-pastel-light.mplstyle\")\n\nys = np.linspace(-38, 38, 2000)\nzs = [complex(0.5, y) for y in ys]\nz_values = [complex(zeta(z)) for z in zs]\n\nreal_parts = [zv.real for zv in z_values]\nimag_parts = [zv.imag for zv in z_values]\n\nfig = plt.figure(figsize=(12, 6))\nplt.plot(ys, real_parts, label=\"$\\Re[\\zeta(\\\\frac{1}{2} + i y)]$\")\nplt.plot(ys, imag_parts, label=\"$\\Im[\\zeta(\\\\frac{1}{2} + i y)]$\")\nplt.title(\"Riemann zeta function along the critical line \\n  $\\zeta(\\\\frac{1}{2} + i y)$\")\nplt.xlabel(\"$y$\")\nplt.legend()\nplt.box(on=False)\nfig.savefig('19_Zeta_Bonus1')\nplt.show()\n\nx = np.array(real_parts)\ny = np.array(imag_parts)\ndydx = ys\n# Create a set of line segments so that we can color them individually\n# This creates the points as an N x 1 x 2 array so that we can stack points\n# together easily to get the segments. The segments array for line collection\n# needs to be (numlines) x (points per line) x 2 (for x and y)\npoints = np.array([x, y]).T.reshape(-1, 1, 2)\nsegments = np.concatenate([points[:-1], points[1:]], axis=1)\n\nfig, axs = plt.subplots(1, 1)\n\n# Create a continuous norm to map from data points to colors\nnorm = plt.Normalize(dydx.min(), dydx.max())\nlc = LineCollection(segments, cmap='viridis', norm=norm)\n# Set the values used for color mapping\nlc.set_array(dydx)\nlc.set_linewidth(1.5)\nline = axs.add_collection(lc)\naxs.set_xlim(-2, 3.25)\naxs.set_ylim(-2, 2)\n\nplt.title(\"Riemann zeta function along the critical line \\n  $\\zeta(\\\\frac{1}{2} + i y)$\")\nplt.xlabel(\"$\\Re[\\zeta(\\\\frac{1}{2} + i y)]$\")\nplt.ylabel(\"$\\Im[\\zeta(\\\\frac{1}{2} + i y)]$\")\nplt.box(on=False)\n# fig.savefig('19_Zeta_Bonus2')\nplt.show()"
      ]
    }
  ],
  "metadata": {
    "kernelspec": {
      "display_name": "Python 3",
      "language": "python",
      "name": "python3"
    },
    "language_info": {
      "codemirror_mode": {
        "name": "ipython",
        "version": 3
      },
      "file_extension": ".py",
      "mimetype": "text/x-python",
      "name": "python",
      "nbconvert_exporter": "python",
      "pygments_lexer": "ipython3",
      "version": "3.12.3"
    }
  },
  "nbformat": 4,
  "nbformat_minor": 0
}
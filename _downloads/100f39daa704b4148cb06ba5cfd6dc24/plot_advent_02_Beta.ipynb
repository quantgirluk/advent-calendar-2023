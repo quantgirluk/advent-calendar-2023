{
  "cells": [
    {
      "cell_type": "markdown",
      "metadata": {},
      "source": [
        "\n# Day 2 : Beta\n"
      ]
    },
    {
      "cell_type": "code",
      "execution_count": null,
      "metadata": {
        "collapsed": false
      },
      "outputs": [],
      "source": [
        "# Author: Dialid Santiago <d.santiago@outlook.com>\n# License: MIT\n# Description: Advent Calendar 2023\n\nimport matplotlib.pyplot as plt\nfrom matplotlib.gridspec import GridSpec\n\nfrom scipy.stats import beta\nimport numpy as np\n\nplt.style.use(\"https://raw.githubusercontent.com/quantgirluk/matplotlib-stylesheets/main/quant-pastel-light.mplstyle\")\n\n\ndef plot_beta(parameters, title=None, line_labels=True, **kwargs):\n    title = title if title else f\"\\n Beta Distribution \\n $X \\\\sim Beta(\\\\alpha, \\\\beta)$\"\n\n    fig = plt.figure(figsize=(10, 5), *kwargs)\n    gs = GridSpec(1, 4, wspace=0.5)\n    ax1 = fig.add_subplot(gs[:2])\n    ax2 = fig.add_subplot(gs[2:])\n    x = np.linspace(0, 1, 200)\n    for (a, b) in parameters:\n        rv = beta(a, b)\n\n        if line_labels:\n            ax1.plot(x, rv.pdf(x), label=f\"$\\\\alpha={a},  \\\\beta={b}$\")\n            ax2.plot(x, rv.cdf(x), label=f\"$\\\\alpha={a},  \\\\beta={b}$\")\n            ax1.legend()\n        else:\n            ax1.plot(x, rv.pdf(x))\n            ax2.plot(x, rv.cdf(x))\n\n    ax1.set_title('Probability Density Function', y=-0.18)\n\n    ax2.set_title('Cumulative Distribution Function', y=-0.18)\n\n    fig.suptitle(title)\n    gs.tight_layout(fig)\n\n    plt.show()\n\n    return fig\n\n\ndef main():\n    params = [(0.5, 0.5), (2.0, 0.5), (2.0, 2.0), (2.0, 5.0)]\n    figure = plot_beta(params, dpi=200)\n    # figure.savefig('02_Beta')\n\n\nif __name__ == \"__main__\":\n    main()"
      ]
    }
  ],
  "metadata": {
    "kernelspec": {
      "display_name": "Python 3",
      "language": "python",
      "name": "python3"
    },
    "language_info": {
      "codemirror_mode": {
        "name": "ipython",
        "version": 3
      },
      "file_extension": ".py",
      "mimetype": "text/x-python",
      "name": "python",
      "nbconvert_exporter": "python",
      "pygments_lexer": "ipython3",
      "version": "3.12.3"
    }
  },
  "nbformat": 4,
  "nbformat_minor": 0
}
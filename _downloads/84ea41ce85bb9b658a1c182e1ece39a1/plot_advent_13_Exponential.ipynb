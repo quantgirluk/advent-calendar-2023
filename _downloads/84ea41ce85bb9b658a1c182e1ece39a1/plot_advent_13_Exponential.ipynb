{
  "cells": [
    {
      "cell_type": "markdown",
      "metadata": {},
      "source": [
        "\n# Day 13 : Exponential\n"
      ]
    },
    {
      "cell_type": "code",
      "execution_count": null,
      "metadata": {
        "collapsed": false
      },
      "outputs": [],
      "source": [
        "# Author: Dialid Santiago <d.santiago@outlook.com>\n# License: MIT\n# Description: Advent Calendar 2023\n\nimport matplotlib.pyplot as plt\nfrom matplotlib.gridspec import GridSpec\n\nfrom scipy.stats import expon\nimport numpy as np\n\nplt.style.use(\"https://raw.githubusercontent.com/quantgirluk/matplotlib-stylesheets/main/quant-pastel-light.mplstyle\")\n\ntitle: str = f\"\\n Exponential Distribution \\n $X \\\\sim Exp (\\\\lambda)$\"\n\nfig = plt.figure(figsize=(10, 5), dpi=200)\ngs = GridSpec(1, 4, wspace=0.5)\nax1 = fig.add_subplot(gs[:2])\nax2 = fig.add_subplot(gs[2:])\n\nx = np.linspace(0., 5., 1000)\nparams = [0.5, 1., 1.5, 2., 10.]\nfor k in params:\n    rv = expon(scale = 1/k)\n    ax1.plot(x, rv.pdf(x), label=f\"$\\\\lambda ={k}$\")\n    ax2.plot(x, rv.cdf(x), label=f\"$\\\\lambda ={k}$\")\n\nax1.set_ylim((0, 0.55))\nax1.set_title(r'Probability Density Function', y=-0.18)\nax2.legend( frameon=True, facecolor='white',  framealpha=1)\nax2.set_title('Cumulative Distribution Function', y=-0.18)\nfig.suptitle(title)\ngs.tight_layout(fig)\n\n# fig.savefig('13_Exponential')\nplt.show()"
      ]
    }
  ],
  "metadata": {
    "kernelspec": {
      "display_name": "Python 3",
      "language": "python",
      "name": "python3"
    },
    "language_info": {
      "codemirror_mode": {
        "name": "ipython",
        "version": 3
      },
      "file_extension": ".py",
      "mimetype": "text/x-python",
      "name": "python",
      "nbconvert_exporter": "python",
      "pygments_lexer": "ipython3",
      "version": "3.12.3"
    }
  },
  "nbformat": 4,
  "nbformat_minor": 0
}
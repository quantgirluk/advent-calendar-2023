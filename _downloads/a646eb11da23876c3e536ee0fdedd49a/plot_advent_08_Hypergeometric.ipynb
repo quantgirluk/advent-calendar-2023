{
  "cells": [
    {
      "cell_type": "markdown",
      "metadata": {},
      "source": [
        "\n# Day 8 : Hypergeometric\n"
      ]
    },
    {
      "cell_type": "code",
      "execution_count": null,
      "metadata": {
        "collapsed": false
      },
      "outputs": [],
      "source": [
        "# Author: Dialid Santiago <d.santiago@outlook.com>\n# License: MIT\n# Description: Advent Calendar 2023\n\nimport matplotlib.pyplot as plt\nimport numpy as np\nfrom matplotlib.gridspec import GridSpec\nfrom scipy.stats import hypergeom\n\nplt.style.use(\n    \"https://raw.githubusercontent.com/quantgirluk/matplotlib-stylesheets/main/quant-pastel-light.mplstyle\")\n\nx = np.arange(0, 60, 1)\ntitle = f\"Hypergeometric Distribution \\n $X \\\\sim Hypergeometric(N, K, n)$\"\n\nfig = plt.figure(figsize=(10, 5), dpi=150)\ngs = GridSpec(1, 4, wspace=0.5)\nax1 = fig.add_subplot(gs[:2])\nax2 = fig.add_subplot(gs[2:])\n\nparams = [(50, 100), (60, 200), (70, 300)]\n\nfor (n, N) in params:\n    rv = hypergeom(700, n, N)\n    ax1.vlines(x, 0, rv.pmf(x), colors='grey', linestyles='--', lw=1, alpha=0.5)\n\nfor (n, N) in params:\n    rv = hypergeom(700, n, N)\n    ax1.plot(x, rv.pmf(x), marker='o', linestyle='', label=f\"$N=700, K={n}, n={N}$\")\n    c = ax1.get_lines()[-1].get_color()\n    ax2.plot(x, rv.cdf(x), drawstyle='steps-post',\n             color=c,\n             lw=1, linestyle='--')\n    ax2.plot(x, rv.cdf(x), marker='o', linestyle='')\n\nax1.legend()\nax1.set_title('Probability Mass Function', y=-0.18)\nax2.set_title('Cumulative Distribution Function', y=-0.18)\n\nfig.suptitle(title)\ngs.tight_layout(fig)\n\n# fig.savefig('08_Hypergeometric')\nplt.show()"
      ]
    }
  ],
  "metadata": {
    "kernelspec": {
      "display_name": "Python 3",
      "language": "python",
      "name": "python3"
    },
    "language_info": {
      "codemirror_mode": {
        "name": "ipython",
        "version": 3
      },
      "file_extension": ".py",
      "mimetype": "text/x-python",
      "name": "python",
      "nbconvert_exporter": "python",
      "pygments_lexer": "ipython3",
      "version": "3.12.3"
    }
  },
  "nbformat": 4,
  "nbformat_minor": 0
}
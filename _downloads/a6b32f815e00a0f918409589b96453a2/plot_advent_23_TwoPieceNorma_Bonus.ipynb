{
  "cells": [
    {
      "cell_type": "markdown",
      "metadata": {},
      "source": [
        "\n# Day 23: Two-Piece Normal Distribution with Fanchart\n"
      ]
    },
    {
      "cell_type": "code",
      "execution_count": null,
      "metadata": {
        "collapsed": false
      },
      "outputs": [],
      "source": [
        "# Author: Dialid Santiago <d.santiago@outlook.com>\n# License: MIT\n# Description: Advent Calendar 2023\n\nfrom fanchart.plot import *\n\n\nprobs = [0.05, 0.20, 0.35, 0.65, 0.80, 0.95]\n\nparameters = load_boe_parameters()\nhistory = load_boe_history()\n# fan(pars=parameters, probs=probs,\n#     historic=history[history.Date >= '2018'],\n#     title=\"CPI inflation projection 2022-Q2\"\n#           \"\\nSource: Bank of England\")\n\n\nfig = fan(pars=parameters, probs=probs,\n          historic=history[history.Date >= '2019'],\n          title=\"CPI inflation projection 2023-Q3 based on constant interest rates at 5.25%, other policy measures as \"\n                \"announced \"\n                \"\\nData Source: Bank of England\")\n\n# fig.savefig(\"23_TwoPieceNormal_Bonus_Fanchart_2023\")"
      ]
    }
  ],
  "metadata": {
    "kernelspec": {
      "display_name": "Python 3",
      "language": "python",
      "name": "python3"
    },
    "language_info": {
      "codemirror_mode": {
        "name": "ipython",
        "version": 3
      },
      "file_extension": ".py",
      "mimetype": "text/x-python",
      "name": "python",
      "nbconvert_exporter": "python",
      "pygments_lexer": "ipython3",
      "version": "3.12.3"
    }
  },
  "nbformat": 4,
  "nbformat_minor": 0
}
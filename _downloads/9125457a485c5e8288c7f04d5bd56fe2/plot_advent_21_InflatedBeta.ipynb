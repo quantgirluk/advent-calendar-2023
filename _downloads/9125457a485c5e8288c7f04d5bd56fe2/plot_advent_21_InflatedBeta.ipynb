{
  "cells": [
    {
      "cell_type": "markdown",
      "metadata": {},
      "source": [
        "\n# Day 21: Inflated Beta\n"
      ]
    },
    {
      "cell_type": "code",
      "execution_count": null,
      "metadata": {
        "collapsed": false
      },
      "outputs": [],
      "source": [
        "# Author: Dialid Santiago <d.santiago@outlook.com>\n# License: MIT\n# Description: Advent Calendar 2023\n\nimport matplotlib.pyplot as plt\nfrom matplotlib.gridspec import GridSpec\n\nfrom scipy.stats import beta\nimport numpy as np\n\nplt.style.use(\"https://raw.githubusercontent.com/quantgirluk/matplotlib-stylesheets/main/quant-pastel-light.mplstyle\")\n\n\ndef plot_zoibeta(parameters, title=None, **kwargs):\n    title = title if title else f\"\\n Zero-One Inflated Beta Distribution \\n $X \\\\sim ZOIBeta(\\\\alpha, \\\\gamma, \\\\mu, \" \\\n                                f\"\\\\sigma)$ \"\n\n    fig = plt.figure(figsize=(10, 5), *kwargs)\n    gs = GridSpec(1, 4, wspace=0.5)\n    ax1 = fig.add_subplot(gs[:2])\n    ax2 = fig.add_subplot(gs[2:])\n    x = np.linspace(0, 0.999, 500)\n\n    for (alpha, gamma, mu, phi) in parameters:\n        pi0 = alpha * (1.0 - gamma)\n        pi1 = alpha * gamma\n        a = mu * phi\n        b = (1 - mu) * phi\n        rv = beta(a, b)\n\n        ax1.plot(x, (1 - pi0 - pi1) * rv.pdf(x), label=f\"$\\\\alpha={alpha},  \\\\gamma={gamma}, \\\\mu={mu}, \\\\phi={phi}$\")\n        ax1.scatter([0, 1], [pi0, pi1])\n        ax2.plot(x, pi0 + (1 - pi0 - pi1) * rv.cdf(x),\n                 label=f\"$\\\\alpha={alpha},  \\\\gamma={gamma}, \\\\mu={mu}, \\\\phi={phi}$\")\n        ax2.scatter([0, 1], [pi0, 1.0])\n        ax1.legend()\n\n    ax1.set_title('Mixed Continuous-Discrete\\n Probability Density Function', y=-0.25)\n    ax2.set_title('Mixed Continuous-Discrete\\n Cumulative Distribution Function', y=-0.25)\n\n    fig.suptitle(title)\n    gs.tight_layout(fig)\n\n    plt.show()\n\n    return fig\n\n\ndef main():\n    zoi_beta_params = [(0.9, 0.1, 0.3, 5), (0.9, 0.5, 0.5, 0.5), (0.4, 0.2, 0.7, 5), (0.2, 0.8, 0.7, 5)]\n    figure = plot_zoibeta(zoi_beta_params, dpi=200)\n    # figure.savefig('21_ZOIBeta')\n\n\nif __name__ == \"__main__\":\n    main()"
      ]
    }
  ],
  "metadata": {
    "kernelspec": {
      "display_name": "Python 3",
      "language": "python",
      "name": "python3"
    },
    "language_info": {
      "codemirror_mode": {
        "name": "ipython",
        "version": 3
      },
      "file_extension": ".py",
      "mimetype": "text/x-python",
      "name": "python",
      "nbconvert_exporter": "python",
      "pygments_lexer": "ipython3",
      "version": "3.12.3"
    }
  },
  "nbformat": 4,
  "nbformat_minor": 0
}
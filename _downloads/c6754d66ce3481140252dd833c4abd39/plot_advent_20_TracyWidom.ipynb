{
  "cells": [
    {
      "cell_type": "markdown",
      "metadata": {},
      "source": [
        "\n# Day 5 : Arc-Sine\n"
      ]
    },
    {
      "cell_type": "code",
      "execution_count": null,
      "metadata": {
        "collapsed": false
      },
      "outputs": [],
      "source": [
        "# Author: Dialid Santiago <d.santiago@outlook.com>\n# License: MIT\n# Description: Advent Calendar 2023\n\nimport matplotlib.pyplot as plt\nimport numpy as np\nfrom matplotlib.gridspec import GridSpec\n# from skrmt.ensemble.spectral_law import TracyWidomDistribution\n#\n# plt.style.use(\"https://raw.githubusercontent.com/quantgirluk/matplotlib-stylesheets/main/quant-pastel-light.mplstyle\")\n#\n# title: str = f\"\\n Tracy-Widom Distribution \\n $X \\\\sim TW\\\\beta$\"\n#\n# fig = plt.figure(figsize=(10, 5), dpi=200)\n# gs = GridSpec(1, 4, wspace=0.5)\n# ax1 = fig.add_subplot(gs[:2])\n# ax2 = fig.add_subplot(gs[2:])\n#\n# x = np.linspace(-5.0, 5.0, 1000)\n# params = [1, 2, 4]\n# for beta in params:\n#     rv = TracyWidomDistribution(beta=beta)\n#     ax1.plot(x, rv.pdf(x), label=f\"$\\\\beta={beta}$\")\n#     ax2.plot(x, rv.cdf(x), label=f\"$\\\\beta={beta}$\")\n#\n# ax1.set_title(r'Probability Density Function', y=-0.18)\n# ax2.legend(loc='lower right', frameon=True, facecolor='white', framealpha=1)\n# ax2.set_title('Cumulative Distribution Function', y=-0.18)\n# fig.suptitle(title)\n# gs.tight_layout(fig)\n#\n# # fig.savefig('20_TracyWidom')\n# plt.show()"
      ]
    }
  ],
  "metadata": {
    "kernelspec": {
      "display_name": "Python 3",
      "language": "python",
      "name": "python3"
    },
    "language_info": {
      "codemirror_mode": {
        "name": "ipython",
        "version": 3
      },
      "file_extension": ".py",
      "mimetype": "text/x-python",
      "name": "python",
      "nbconvert_exporter": "python",
      "pygments_lexer": "ipython3",
      "version": "3.12.3"
    }
  },
  "nbformat": 4,
  "nbformat_minor": 0
}
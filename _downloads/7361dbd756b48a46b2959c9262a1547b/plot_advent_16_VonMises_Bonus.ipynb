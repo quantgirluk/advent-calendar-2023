{
  "cells": [
    {
      "cell_type": "markdown",
      "metadata": {},
      "source": [
        "\n# Day 16 : Von Mises\n"
      ]
    },
    {
      "cell_type": "code",
      "execution_count": null,
      "metadata": {
        "collapsed": false
      },
      "outputs": [],
      "source": [
        "# Author: Dialid Santiago <d.santiago@outlook.com>\n# License: MIT\n# Description: Advent Calendar 2023\n\nimport numpy as np\nimport matplotlib.pyplot as plt\nfrom scipy.stats import vonmises\n\nplt.style.use(\"https://raw.githubusercontent.com/quantgirluk/matplotlib-stylesheets/main/quant-pastel-light.mplstyle\")\n\ntitle: str = f\"\\n Von Mises Distribution \\n $X \\\\sim VonMises(\\\\mu = \\\\frac{1}{2} \\pi, \\\\kappa = 1)$\"\n\nloc = 0.5 * np.pi  # circular mean\nkappa = 1  # concentration\nnumber_of_samples = 5000\nsamples = vonmises(loc=loc, kappa=kappa).rvs(number_of_samples)\n\nfig = plt.figure(figsize=(12, 6))\nleft = plt.subplot(121)\nright = plt.subplot(122, projection='polar')\n\nx = np.linspace(-np.pi, np.pi, 500)\nvonmises_pdf = vonmises.pdf(loc, kappa, x)\n\nleft.plot(x, vonmises_pdf, label=\"Probability Density Function\")\nticks = [0, 0.15, 0.3]\nleft.set_yticks(ticks)\nnumber_of_bins = int(np.sqrt(number_of_samples))\nleft.hist(samples, density=True, bins=number_of_bins, label=\"Sample Histogram\", color=\"deeppink\", alpha=0.25)\nleft.set_xlim(-np.pi, np.pi)\nleft.set_title(r'Cartesian Plot', y=-0.18)\nleft.legend(loc=\"upper left\", frameon=True, facecolor='white', framealpha=1)\n\nright.plot(x, vonmises_pdf)\nright.set_yticks(ticks)\nright.hist(samples, density=True, bins=number_of_bins, color=\"deeppink\", alpha=0.25)\nright.set_title('Polar Plot', y=-0.18)\n\nfig.suptitle(title)\nplt.tight_layout()\n\n# fig.savefig('16_VonMises_Bonus')\nplt.show()"
      ]
    }
  ],
  "metadata": {
    "kernelspec": {
      "display_name": "Python 3",
      "language": "python",
      "name": "python3"
    },
    "language_info": {
      "codemirror_mode": {
        "name": "ipython",
        "version": 3
      },
      "file_extension": ".py",
      "mimetype": "text/x-python",
      "name": "python",
      "nbconvert_exporter": "python",
      "pygments_lexer": "ipython3",
      "version": "3.12.3"
    }
  },
  "nbformat": 4,
  "nbformat_minor": 0
}
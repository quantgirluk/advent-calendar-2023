{
  "cells": [
    {
      "cell_type": "markdown",
      "metadata": {},
      "source": [
        "\n# Day 4 : Pareto\n"
      ]
    },
    {
      "cell_type": "code",
      "execution_count": null,
      "metadata": {
        "collapsed": false
      },
      "outputs": [],
      "source": [
        "# Author: Dialid Santiago <d.santiago@outlook.com>\n# License: MIT\n# Description: Advent Calendar 2023\n\nimport matplotlib.pyplot as plt\nfrom matplotlib.gridspec import GridSpec\n\nfrom scipy.stats import pareto\nimport numpy as np\n\n# noinspection DuplicatedCode\nplt.style.use(\n    \"https://raw.githubusercontent.com/quantgirluk/matplotlib-stylesheets/main/quant-pastel-light.mplstyle\")\n\ntitle: str = f\"\\n Pareto Distribution \\n $X \\\\sim Pareto(x_m, \\\\alpha)$\"\n\nfig = plt.figure(figsize=(10, 5), dpi=200)\ngs = GridSpec(1, 4, wspace=0.5)\nax1 = fig.add_subplot(gs[:2])\nax2 = fig.add_subplot(gs[2:])\n\nparams = [(0.5, 0.4), (1.0, 0.5), (2.0, 2.0), (2.0, 3.0)]\nfor (xm, b) in params:\n    x1 = np.linspace(0.0, xm - 0.0001, 100)\n    x2 = np.linspace(xm, 6., 500)\n    rv = pareto(b=b, scale=xm, )\n    x = x2\n    ax1.plot(x, rv.pdf(x), label=f\"$x_m={xm},  \\\\alpha={b}$\")\n    ax2.plot(x, rv.cdf(x), label=f\"$x_m={xm},  \\\\alpha={b}$\")\n    c = ax1.get_lines()[-1].get_color()\n    x = x1\n    ax1.plot(xm, rv.pdf(xm), color=c, marker='o', markersize=3.5)\n    ax1.plot(x, rv.pdf(x), color=c)\n    ax2.plot(x, rv.cdf(x), color=c)\n\nax1.set_title('Probability Density Function', y=-0.18)\nax1.legend()\nax2.set_title('Cumulative Distribution Function', y=-0.18)\nfig.suptitle(title)\ngs.tight_layout(fig)\n\n# fig.savefig('04_Pareto')\nplt.show()"
      ]
    }
  ],
  "metadata": {
    "kernelspec": {
      "display_name": "Python 3",
      "language": "python",
      "name": "python3"
    },
    "language_info": {
      "codemirror_mode": {
        "name": "ipython",
        "version": 3
      },
      "file_extension": ".py",
      "mimetype": "text/x-python",
      "name": "python",
      "nbconvert_exporter": "python",
      "pygments_lexer": "ipython3",
      "version": "3.12.3"
    }
  },
  "nbformat": 4,
  "nbformat_minor": 0
}
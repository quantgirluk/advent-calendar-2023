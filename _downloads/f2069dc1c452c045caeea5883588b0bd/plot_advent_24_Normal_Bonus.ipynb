{
  "cells": [
    {
      "cell_type": "markdown",
      "metadata": {},
      "source": [
        "\n# Day 24: Normal\n"
      ]
    },
    {
      "cell_type": "code",
      "execution_count": null,
      "metadata": {
        "collapsed": false
      },
      "outputs": [],
      "source": [
        "# Author: Dialid Santiago <d.santiago@outlook.com>\n# License: MIT\n# Description: Advent Calendar 2023\n\nimport matplotlib.pyplot as plt\nfrom aleatory.processes import BrownianMotion\n\nplt.style.use(\"https://raw.githubusercontent.com/quantgirluk/matplotlib-stylesheets/main/quant-pastel-light.mplstyle\")\n\nprocess = BrownianMotion(T=10)\nfig = process.draw(n=200, N=200, envelope=True, colormap=\"Greens\",\n                   title=\"Merry Christmas!\", figsize=(10, 7))\n\n# fig.savefig('24_Normal_Bonus')\nplt.show()"
      ]
    }
  ],
  "metadata": {
    "kernelspec": {
      "display_name": "Python 3",
      "language": "python",
      "name": "python3"
    },
    "language_info": {
      "codemirror_mode": {
        "name": "ipython",
        "version": 3
      },
      "file_extension": ".py",
      "mimetype": "text/x-python",
      "name": "python",
      "nbconvert_exporter": "python",
      "pygments_lexer": "ipython3",
      "version": "3.12.3"
    }
  },
  "nbformat": 4,
  "nbformat_minor": 0
}
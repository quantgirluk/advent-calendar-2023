{
  "cells": [
    {
      "cell_type": "markdown",
      "metadata": {},
      "source": [
        "\n# Day 22: Marchenko-Pastur\n"
      ]
    },
    {
      "cell_type": "code",
      "execution_count": null,
      "metadata": {
        "collapsed": false
      },
      "outputs": [],
      "source": [
        "# Author: Dialid Santiago <d.santiago@outlook.com>\n# License: MIT\n# Description: Advent Calendar 2023\n\nimport matplotlib.pyplot as plt\nimport numpy as np\nfrom matplotlib.gridspec import GridSpec\n# from skrmt.ensemble.spectral_law import MarchenkoPasturDistribution\n#\n# plt.style.use(\"https://raw.githubusercontent.com/quantgirluk/matplotlib-stylesheets/main/quant-pastel-light.mplstyle\")\n#\n# title: str = f\"\\n Marchenko Pastur Distribution \\n $X \\\\sim Marchenko-Pastur(\\\\lambda)$\"\n#\n# fig = plt.figure(figsize=(10, 5), dpi=200)\n# gs = GridSpec(1, 4, wspace=0.5)\n# ax1 = fig.add_subplot(gs[:2])\n# ax2 = fig.add_subplot(gs[2:])\n#\n# x_cdf = np.linspace(0, 3.5, 1000)\n# params = [0.1, 0.2, 0.5, 0.7]\n# sigma = 1.0\n# for ratio in params:\n#     rv = MarchenkoPasturDistribution(beta=1, ratio=ratio, sigma=sigma)\n#\n#     lambda_min = (sigma ** 2) * (1. - np.sqrt(ratio)) ** 2\n#     lambda_max = (sigma ** 2) * (1. + np.sqrt(ratio)) ** 2\n#     x = np.linspace(lambda_min, lambda_max, 1000)\n#     ax1.plot(x, rv.pdf(x), label=f\"$\\\\lambda={ratio}$\")\n#     ax2.plot(x_cdf, rv.cdf(x_cdf), label=f\"$\\\\lambda={ratio}$\")\n#\n# ax1.set_title(r'Probability Density Function', y=-0.18)\n# ax2.legend(loc='lower right', frameon=True, facecolor='white', framealpha=1)\n# ax2.set_title('Cumulative Distribution Function', y=-0.18)\n# fig.suptitle(title)\n# gs.tight_layout(fig)\n#\n# # fig.savefig('22_MarchenkoPastur')\n# plt.show()"
      ]
    }
  ],
  "metadata": {
    "kernelspec": {
      "display_name": "Python 3",
      "language": "python",
      "name": "python3"
    },
    "language_info": {
      "codemirror_mode": {
        "name": "ipython",
        "version": 3
      },
      "file_extension": ".py",
      "mimetype": "text/x-python",
      "name": "python",
      "nbconvert_exporter": "python",
      "pygments_lexer": "ipython3",
      "version": "3.12.3"
    }
  },
  "nbformat": 4,
  "nbformat_minor": 0
}
{
  "cells": [
    {
      "cell_type": "markdown",
      "metadata": {},
      "source": [
        "\n# Day 11 : F\n"
      ]
    },
    {
      "cell_type": "code",
      "execution_count": null,
      "metadata": {
        "collapsed": false
      },
      "outputs": [],
      "source": [
        "# Author: Dialid Santiago <d.santiago@outlook.com>\n# License: MIT\n# Description: Advent Calendar 2023\n\nimport matplotlib.pyplot as plt\nfrom matplotlib.gridspec import GridSpec\n\nfrom scipy.stats import f\nimport numpy as np\n\nplt.style.use(\"https://raw.githubusercontent.com/quantgirluk/matplotlib-stylesheets/main/quant-pastel-light.mplstyle\")\n\ntitle: str = f\"\\n F Distribution \\n $X \\\\sim F(d_1, d_2)$\"\n\nfig = plt.figure(figsize=(10, 5), dpi=200)\ngs = GridSpec(1, 4, wspace=0.5)\nax1 = fig.add_subplot(gs[:2])\nax2 = fig.add_subplot(gs[2:])\n\nx = np.linspace(0., 3., 1000)\nparams = [(1., 1), (2.5, 1), (10, 100), (100, 100)]\nfor (alpha, beta) in params:\n    rv = f(dfn=alpha, dfd=beta)\n    ax1.plot(x, rv.pdf(x), label=f\"$d_1={alpha},  d_2={beta}$\")\n    ax2.plot(x, rv.cdf(x), label=f\"$d_1={alpha},  d_2={beta}$\")\n\nax1.set_ylim((0,2.1))\nax1.set_title(r'Probability Density Function', y=-0.18)\nax2.legend(loc='lower right', frameon=True, facecolor='white',  framealpha=1)\nax2.set_title('Cumulative Distribution Function', y=-0.18)\nfig.suptitle(title)\ngs.tight_layout(fig)\n\n# fig.savefig('11_F')\nplt.show()"
      ]
    }
  ],
  "metadata": {
    "kernelspec": {
      "display_name": "Python 3",
      "language": "python",
      "name": "python3"
    },
    "language_info": {
      "codemirror_mode": {
        "name": "ipython",
        "version": 3
      },
      "file_extension": ".py",
      "mimetype": "text/x-python",
      "name": "python",
      "nbconvert_exporter": "python",
      "pygments_lexer": "ipython3",
      "version": "3.12.3"
    }
  },
  "nbformat": 4,
  "nbformat_minor": 0
}
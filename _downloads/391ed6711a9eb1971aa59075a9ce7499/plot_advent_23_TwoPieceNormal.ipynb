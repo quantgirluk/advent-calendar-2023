{
  "cells": [
    {
      "cell_type": "markdown",
      "metadata": {},
      "source": [
        "\n# Day 23: Two-Piece Normal\n"
      ]
    },
    {
      "cell_type": "code",
      "execution_count": null,
      "metadata": {
        "collapsed": false
      },
      "outputs": [],
      "source": [
        "# Author: Dialid Santiago <d.santiago@outlook.com>\n# License: MIT\n# Description: Advent Calendar 2023\n\nimport matplotlib.pyplot as plt\nfrom matplotlib.gridspec import GridSpec\nfrom twopiece.scale import tpnorm\nfrom scipy.stats import norm\nimport numpy as np\n\nplt.style.use(\"https://raw.githubusercontent.com/quantgirluk/matplotlib-stylesheets/main/quant-pastel-light.mplstyle\")\n\ntitle: str = f\"\\n Two-Piece Normal Distribution \\n $X \\\\sim TPNorm(\\\\mu, \\\\sigma_1, \\\\sigma_2)$\"\n\nfig = plt.figure(figsize=(10, 5), dpi=200)\ngs = GridSpec(1, 4, wspace=0.5)\nax1 = fig.add_subplot(gs[:2])\nax2 = fig.add_subplot(gs[2:])\n\nparams = [(0.0, 1.0, 1.0), (0.0, 0.5, 2.), (0.0, 1.0, 2.0), (-1.0, 2., 1.)]\nfor (a, b, c) in params:\n    rv = tpnorm(loc=a, sigma1=b, sigma2=c)\n    x = np.linspace(-7., 7., 1000)\n    ax1.plot(x, rv.pdf(x), label=f\"$\\\\mu={a},  b={b}$\")\n    x = np.linspace(-7., 7., 1000)\n    ax2.plot(x, rv.cdf(x), label=f\"$\\\\mu={a},  \\\\sigma_1={b}, \\\\sigma_2={c}$\")\n\nax1.set_title(r'Probability Density Function', y=-0.18)\nax2.legend(loc=\"lower right\", frameon=True, facecolor='white', framealpha=1, prop={'size': 8})\nax2.set_title('Cumulative Distribution Function', y=-0.18)\nfig.suptitle(title)\ngs.tight_layout(fig)\n\nfig.savefig('23_TwoPieceNormal')\nplt.show()\n\nfig = plt.figure(figsize=(10, 7))\nsigma1 = 1.\nsigma2 = 1.5\nx = np.linspace(-4., 0., 200)\nrv = norm(loc=0.0, scale=sigma1)\nplt.plot(x, rv.pdf(x), label=\"Left Half\", linestyle=\"dotted\", color=\"blue\", lw=1.5)\n\nx = np.linspace(-4., 4., 1000)\nrv = tpnorm(loc=0.0, sigma1=sigma1, sigma2=sigma2)\nplt.plot(x, rv.pdf(x), label=\"Two-Piece Normal\", color=\"purple\")\nplt.fill_between(x, rv.pdf(x), color=\"purple\", alpha=0.2)\n\nrv = norm(loc=0.0, scale=sigma2)\nx = np.linspace(0., 4., 200)\nplt.plot(x, rv.pdf(x), label=\"Right Half\", linestyle=\"dotted\", color=\"hotpink\", lw=1.5)\nplt.legend(frameon=True, facecolor='white', framealpha=1)\nplt.title(\"Two-Piece Normal Density \\n $TPNorm(\\mu = 0.0, \\sigma_1=1.0, \\sigma_2=1.5)$\")\n# fig.savefig('23_TwoPieceNormal_Bonus')\nplt.show()"
      ]
    }
  ],
  "metadata": {
    "kernelspec": {
      "display_name": "Python 3",
      "language": "python",
      "name": "python3"
    },
    "language_info": {
      "codemirror_mode": {
        "name": "ipython",
        "version": 3
      },
      "file_extension": ".py",
      "mimetype": "text/x-python",
      "name": "python",
      "nbconvert_exporter": "python",
      "pygments_lexer": "ipython3",
      "version": "3.12.3"
    }
  },
  "nbformat": 4,
  "nbformat_minor": 0
}
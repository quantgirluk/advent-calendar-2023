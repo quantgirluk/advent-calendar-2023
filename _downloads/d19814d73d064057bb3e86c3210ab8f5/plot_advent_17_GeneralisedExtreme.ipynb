{
  "cells": [
    {
      "cell_type": "markdown",
      "metadata": {},
      "source": [
        "\n# Day 17 : Generalised-Extreme\n"
      ]
    },
    {
      "cell_type": "code",
      "execution_count": null,
      "metadata": {
        "collapsed": false
      },
      "outputs": [],
      "source": [
        "# Author: Dialid Santiago <d.santiago@outlook.com>\n# License: MIT\n# Description: Advent Calendar 2023\n\nimport matplotlib.pyplot as plt\nfrom matplotlib.gridspec import GridSpec\n\nfrom scipy.stats import genextreme\nimport numpy as np\n\nplt.style.use(\"https://raw.githubusercontent.com/quantgirluk/matplotlib-stylesheets/main/quant-pastel-light.mplstyle\")\n\ntitle: str = f\"\\n Generalised Extreme Value Distribution \\n $X \\\\sim GEV(\\\\xi, \\\\mu=0, \\\\sigma=1)$\"\n\nfig = plt.figure(figsize=(10, 5), dpi=200)\ngs = GridSpec(1, 4, wspace=0.5)\nax1 = fig.add_subplot(gs[:2])\nax2 = fig.add_subplot(gs[2:])\n\nx = np.linspace(-4.0, 4.0, 1000)\nparams = [(0.0, 1.0, 0.75), (0.0, 1.0, 0.5), (0.0, 1.0, 0.0), (0.0, 1.0, -0.5), (0.0, 1.0, -0.75)]\nfor (a, b, c) in params:\n    rv = genextreme(c=c, loc=a, scale=b)\n    ax1.plot(x, rv.pdf(x), label=f\"$\\\\xi={c}$\")\n    ax2.plot(x, rv.cdf(x), label=f\"$\\\\xi={c}$\")\n\nax1.set_title(r'Probability Density Function', y=-0.18)\nax2.legend(frameon=True, facecolor='white', framealpha=1)\nax2.set_title('Cumulative Distribution Function', y=-0.18)\nfig.suptitle(title)\ngs.tight_layout(fig)\n\n# fig.savefig('17_GeneralisedExtremeValue')\nplt.show()"
      ]
    }
  ],
  "metadata": {
    "kernelspec": {
      "display_name": "Python 3",
      "language": "python",
      "name": "python3"
    },
    "language_info": {
      "codemirror_mode": {
        "name": "ipython",
        "version": 3
      },
      "file_extension": ".py",
      "mimetype": "text/x-python",
      "name": "python",
      "nbconvert_exporter": "python",
      "pygments_lexer": "ipython3",
      "version": "3.12.3"
    }
  },
  "nbformat": 4,
  "nbformat_minor": 0
}